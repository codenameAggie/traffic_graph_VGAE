{
 "cells": [
  {
   "cell_type": "markdown",
   "metadata": {},
   "source": [
    "Setting up the dataframes and some useful variables"
   ]
  },
  {
   "cell_type": "code",
   "execution_count": 3,
   "metadata": {},
   "outputs": [
    {
     "name": "stdout",
     "output_type": "stream",
     "text": [
      "Using matplotlib backend: Qt5Agg\n"
     ]
    }
   ],
   "source": [
    "import pandas as pd\n",
    "import numpy as np\n",
    "import matplotlib.pyplot as plt\n",
    "import bisect\n",
    "import glob\n",
    "# Using 2016 data - stops and breakpoints\n",
    "%matplotlib\n",
    "\n",
    "import warnings\n",
    "warnings.filterwarnings('ignore')\n",
    "\n",
    "# Using the first quarter's data (beginning of Jan - end of March)\n",
    "# list_of_dfs = []\n",
    "# for i in range(12):\n",
    "# #     df = pd.read_csv(str(i+1)+\".csv\")\n",
    "#     # Use the following and comment the above for friday's dataset\n",
    "#     df = pd.read_csv(str(i+1)+\".csv\")\n",
    "#     list_of_dfs.append(df)\n",
    "\n",
    "# final_df = pd.concat(list_of_dfs)\n",
    "\n",
    "final_df = pd.read_csv(\"./travel_times_2016/fahrzeiten_soll_ist_20160103_20160109.csv\")\n",
    "\n",
    "# final_df.drop(['Unnamed: 0'], axis=1, inplace=True)\n",
    "# Bus stop\n",
    "df_haltepunkt = pd.read_csv(\"./travel_times_2016/haltepunkt.csv\")\n",
    "\n",
    "# Bus Station\n",
    "df_haltestelle = pd.read_csv(\"./travel_times_2016/haltestelle.csv\")\n",
    "\n",
    "####################\n",
    "# Some useful atts #\n",
    "####################\n",
    "\n",
    "# Target attributes - from: in seconds\n",
    "target_arrival_from = \"soll_an_von\"\n",
    "\n",
    "# Actual attributes - from: in seconds\n",
    "actual_arrival_from = \"ist_an_von\"\n",
    "\n",
    "# nominal departure from in seconds\n",
    "target_departure_from = \"soll_ab_von\"\n",
    "\n",
    "# actual  departure from in seconds\n",
    "actual_departure_from = \"ist_ab_von\"\n",
    "#######################################\n",
    "\n",
    "#######################################\n",
    "# Target attributes - from: in seconds\n",
    "target_arrival_to = \"soll_an_nach\"\n",
    "\n",
    "# Actual attributes - from: in seconds\n",
    "actual_arrival_to = \"ist_an_nach1\"\n",
    "\n",
    "# nominal departure from in seconds\n",
    "target_departure_to = \"soll_ab_nach\"\n",
    "\n",
    "# actual  departure from in seconds\n",
    "actual_departure_to = \"ist_ab_nach\"\n",
    "#####################################\n",
    "\n",
    "#####################################\n",
    "\n",
    "# key to haltestelle from and to\n",
    "halt_id_from = \"halt_id_von\"\n",
    "halt_id_to = \"halt_id_nach\"\n",
    "\n",
    "############################\n",
    "# key to haltepunkt from and to\n",
    "halt_punkt_id_from = \"halt_punkt_id_von\"\n",
    "halt_punkt_id_to = \"halt_punkt_id_nach\"\n",
    "\n",
    "###########################"
   ]
  },
  {
   "cell_type": "markdown",
   "metadata": {},
   "source": [
    "# Questions\n",
    "\n",
    "1. Is there some sort of built in consideration for travel time of a given bus? It is crucial to find out, since it allows for stablishing a baseline for comparison"
   ]
  },
  {
   "cell_type": "markdown",
   "metadata": {},
   "source": [
    "# Narrowing It Down\n",
    "\n",
    "\n",
    "Going to narrow the results down to one bus for 1 day, and then generalize."
   ]
  },
  {
   "cell_type": "code",
   "execution_count": 4,
   "metadata": {},
   "outputs": [],
   "source": [
    "# variable to control whether results are narrowed or not\n",
    "narrow = True"
   ]
  },
  {
   "cell_type": "code",
   "execution_count": 5,
   "metadata": {},
   "outputs": [
    {
     "data": {
      "text/plain": [
       "{'03.01.16',\n",
       " '04.01.16',\n",
       " '05.01.16',\n",
       " '06.01.16',\n",
       " '07.01.16',\n",
       " '08.01.16',\n",
       " '09.01.16'}"
      ]
     },
     "execution_count": 5,
     "metadata": {},
     "output_type": "execute_result"
    }
   ],
   "source": [
    "set(final_df['betriebsdatum'])"
   ]
  },
  {
   "cell_type": "code",
   "execution_count": 6,
   "metadata": {},
   "outputs": [],
   "source": [
    "if narrow is True:# Narrow down to 1 day: 06.01.16 - DD.MM.YY\n",
    "    date_to_narrow = \"04.01.16\"\n",
    "    df_modified = final_df.loc[final_df['betriebsdatum'] == date_to_narrow]"
   ]
  },
  {
   "cell_type": "code",
   "execution_count": 7,
   "metadata": {},
   "outputs": [
    {
     "name": "stdout",
     "output_type": "stream",
     "text": [
      "{2048, 2050, 2051, 2052, 10245, 2054, 2055, 10247, 2057, 2058, 2059, 10246, 2061, 2062, 2063, 2064, 2065, 10254, 10255, 2067, 2069, 2070, 2071, 10264, 10263, 10265, 2075, 2076, 2074, 2078, 2079, 10271, 10273, 10274, 2081, 2084, 2083, 2085, 10276, 2087, 10279, 10282, 2090, 2091, 2092, 2093, 2094, 2088, 2096, 2097, 2098, 2099, 2101, 2102, 2103, 2104, 2105, 2107, 2108, 2109, 2110, 2111, 2112, 2113, 2114, 2116, 2117, 2118, 2119, 10312, 2120, 2121, 10310, 10311, 10313, 10331, 10333, 10334, 10335, 10336, 10337, 10338, 2066, 10403, 10404, 10405, 10406, 10407, 10408, 10409, 10410, 10411, 10412, 10413, 10414, 10415, 10416, 10417, 10418, 10419, 10420, 10421, 10422, 10423, 10424, 2072, 10426, 10427, 10428, 10429, 10430, 10431, 2077, 2080, 2082, 2086, 10510, 10511, 10512, 10513, 10514, 10515, 10517, 10518, 10519, 10521, 10523, 10524, 10525, 10526, 10528, 10531, 10532, 10533, 10535, 10536, 10537, 10539, 10540, 10541, 10542, 10543, 10544, 10545, 10546, 10547, 10548, 10549, 2095, 10552, 10553, 10554, 10556, 10557, 10560, 10561, 10562, 10244, 10248, 10602, 10601, 10604, 10605, 10606, 10607, 10608, 10609, 10610, 10611, 10612, 10613, 10614, 10615, 10251, 10617, 10618, 10250, 10616, 10252, 10619, 10256, 10257, 10266, 10267, 10268, 10269, 10270, 10272, 10275, 10277, 10278, 10280, 10281, 10283, 11001, 11002, 11003, 11004, 11013, 11015, 11016, 11017, 11021, 11022, 11023, 11024, 11030, 11031, 11032, 11033, 11034, 2068, 9022, 3001, 3002, 3003, 3004, 3005, 3006, 3008, 3009, 3010, 3011, 3012, 3013, 3014, 3015, 3016, 3017, 3018, 3019, 3020, 3021, 3022, 3024, 3025, 3026, 3027, 3028, 3029, 3030, 3031, 3032, 3033, 3034, 3035, 3036, 3037, 3038, 3039, 3040, 3041, 3042, 3043, 3044, 3045, 3046, 3048, 3049, 3050, 3052, 3053, 3054, 3055, 3056, 3058, 3059, 3060, 3061, 3062, 3063, 3064, 3065, 3066, 3068, 3069, 3070, 3071, 3072, 3073, 3074, 3075, 3077, 3078, 3079, 3080, 3081, 3082, 3083, 3084, 3086, 3087, 11419, 11420, 11421, 11425, 11426, 11432, 11433, 11436, 11437, 11438, 11439, 11440, 11442, 11443, 11444, 11445, 11446, 11447, 11448, 11449, 11450, 11451, 11452, 11453, 11454, 11455, 11456, 11457, 11458, 11459, 11646, 11650, 11651, 11652, 11653, 11654, 11655, 11657, 11658, 11660, 11661, 11663, 11664, 10249, 10061, 10062, 10063, 10064, 10065, 10066, 10067, 10068, 10069, 10071, 10072, 10073, 10074, 10075, 10076, 10077, 10078, 10079, 10080, 10081, 10082, 10083, 10084, 10085, 10087, 10088, 10089, 10090, 10091, 10144, 10145, 10146, 10147, 10148, 10149, 10150, 10152, 10153, 10154, 10155, 10156, 10158, 10159, 10160, 10162, 10163, 10164, 10166, 10167, 10169, 10170, 10171, 10172, 10173, 10174, 10175, 10176, 10177, 10178, 10179, 10180, 10181, 10182, 2002, 2003, 2010, 2013, 2014, 2015, 2018, 2019, 2021, 2023, 2024, 2028, 2030, 2035, 2036, 2037, 2042, 2043, 2044, 2045, 2046, 2047}\n"
     ]
    }
   ],
   "source": [
    "# list of vehicle numbers\n",
    "if narrow is True:\n",
    "    print(set(df_modified['fahrzeug']))"
   ]
  },
  {
   "cell_type": "markdown",
   "metadata": {},
   "source": [
    "This cell shows the total number of recordings for a given vehicle, where the index is the vehicle number, let's pick the top index"
   ]
  },
  {
   "cell_type": "code",
   "execution_count": 8,
   "metadata": {},
   "outputs": [
    {
     "data": {
      "text/plain": [
       "10178    848\n",
       "10180    846\n",
       "10424    840\n",
       "10164    840\n",
       "10420    824\n",
       "Name: fahrzeug, dtype: int64"
      ]
     },
     "execution_count": 8,
     "metadata": {},
     "output_type": "execute_result"
    }
   ],
   "source": [
    "df_modified.fahrzeug.value_counts()[:5]"
   ]
  },
  {
   "cell_type": "code",
   "execution_count": 9,
   "metadata": {},
   "outputs": [],
   "source": [
    "# Narrow down to 1 vehicle: vehicle number\n",
    "if narrow is True:\n",
    "    vehicle_number = 10178\n",
    "    df_modified = df_modified.loc[df_modified['fahrzeug'] == vehicle_number]"
   ]
  },
  {
   "cell_type": "code",
   "execution_count": 10,
   "metadata": {},
   "outputs": [],
   "source": [
    "# Sorting by actual arrival time: to understand time structure\n",
    "if narrow is True:\n",
    "    final_df = df_modified.sort_values(by=[actual_arrival_from])\n",
    "else:\n",
    "    final_df = final_df.sort_values(by=[actual_arrival_from])"
   ]
  },
  {
   "cell_type": "code",
   "execution_count": 11,
   "metadata": {},
   "outputs": [],
   "source": [
    "# Constructing the new df to save on computation\n",
    "\n",
    "df_2 = final_df[[target_arrival_from, actual_arrival_from, target_departure_from, actual_departure_from,\n",
    "             target_arrival_to, actual_arrival_to, target_departure_to, actual_departure_to, 'kurs']]\n"
   ]
  },
  {
   "cell_type": "code",
   "execution_count": 12,
   "metadata": {},
   "outputs": [
    {
     "data": {
      "text/html": [
       "<div>\n",
       "<style scoped>\n",
       "    .dataframe tbody tr th:only-of-type {\n",
       "        vertical-align: middle;\n",
       "    }\n",
       "\n",
       "    .dataframe tbody tr th {\n",
       "        vertical-align: top;\n",
       "    }\n",
       "\n",
       "    .dataframe thead th {\n",
       "        text-align: right;\n",
       "    }\n",
       "</style>\n",
       "<table border=\"1\" class=\"dataframe\">\n",
       "  <thead>\n",
       "    <tr style=\"text-align: right;\">\n",
       "      <th></th>\n",
       "      <th>soll_an_von</th>\n",
       "      <th>ist_an_von</th>\n",
       "      <th>soll_ab_von</th>\n",
       "      <th>ist_ab_von</th>\n",
       "      <th>soll_an_nach</th>\n",
       "      <th>ist_an_nach1</th>\n",
       "      <th>soll_ab_nach</th>\n",
       "      <th>ist_ab_nach</th>\n",
       "      <th>kurs</th>\n",
       "    </tr>\n",
       "  </thead>\n",
       "  <tbody>\n",
       "    <tr>\n",
       "      <th>196133</th>\n",
       "      <td>0</td>\n",
       "      <td>-17</td>\n",
       "      <td>12</td>\n",
       "      <td>-5</td>\n",
       "      <td>54</td>\n",
       "      <td>44</td>\n",
       "      <td>66</td>\n",
       "      <td>52</td>\n",
       "      <td>3</td>\n",
       "    </tr>\n",
       "    <tr>\n",
       "      <th>509028</th>\n",
       "      <td>54</td>\n",
       "      <td>44</td>\n",
       "      <td>66</td>\n",
       "      <td>52</td>\n",
       "      <td>114</td>\n",
       "      <td>97</td>\n",
       "      <td>132</td>\n",
       "      <td>101</td>\n",
       "      <td>3</td>\n",
       "    </tr>\n",
       "    <tr>\n",
       "      <th>56736</th>\n",
       "      <td>114</td>\n",
       "      <td>97</td>\n",
       "      <td>132</td>\n",
       "      <td>101</td>\n",
       "      <td>192</td>\n",
       "      <td>178</td>\n",
       "      <td>204</td>\n",
       "      <td>178</td>\n",
       "      <td>3</td>\n",
       "    </tr>\n",
       "    <tr>\n",
       "      <th>301352</th>\n",
       "      <td>192</td>\n",
       "      <td>178</td>\n",
       "      <td>204</td>\n",
       "      <td>178</td>\n",
       "      <td>282</td>\n",
       "      <td>259</td>\n",
       "      <td>300</td>\n",
       "      <td>276</td>\n",
       "      <td>3</td>\n",
       "    </tr>\n",
       "    <tr>\n",
       "      <th>305833</th>\n",
       "      <td>282</td>\n",
       "      <td>259</td>\n",
       "      <td>300</td>\n",
       "      <td>276</td>\n",
       "      <td>336</td>\n",
       "      <td>311</td>\n",
       "      <td>348</td>\n",
       "      <td>325</td>\n",
       "      <td>3</td>\n",
       "    </tr>\n",
       "  </tbody>\n",
       "</table>\n",
       "</div>"
      ],
      "text/plain": [
       "        soll_an_von  ist_an_von  soll_ab_von  ist_ab_von  soll_an_nach  \\\n",
       "196133            0         -17           12          -5            54   \n",
       "509028           54          44           66          52           114   \n",
       "56736           114          97          132         101           192   \n",
       "301352          192         178          204         178           282   \n",
       "305833          282         259          300         276           336   \n",
       "\n",
       "        ist_an_nach1  soll_ab_nach  ist_ab_nach  kurs  \n",
       "196133            44            66           52     3  \n",
       "509028            97           132          101     3  \n",
       "56736            178           204          178     3  \n",
       "301352           259           300          276     3  \n",
       "305833           311           348          325     3  "
      ]
     },
     "execution_count": 12,
     "metadata": {},
     "output_type": "execute_result"
    }
   ],
   "source": [
    "df_2.head()"
   ]
  },
  {
   "cell_type": "markdown",
   "metadata": {},
   "source": [
    "# Some definitions\n",
    "\n",
    "\n",
    "# 1 - Time still\n",
    "'time_still' is defined as departure at time n minus arrival at time n. Computes how long the bus is stationary. In the dataframe, it is denoted as 'target_stationary'\n",
    "\n",
    "# 2 - Time travelling\n",
    "'time_travelling' is defined as arrival at the next stop minus the departure at the current stop - in df denoted as 'target_travel_time'"
   ]
  },
  {
   "cell_type": "code",
   "execution_count": 13,
   "metadata": {},
   "outputs": [],
   "source": [
    "target_stationary = 'target_stationary'\n",
    "target_travel_time = 'target_travel_time'\n",
    "\n",
    "df_2[target_stationary] = df_2[target_departure_from] - df_2[target_arrival_from]\n",
    "df_2[target_travel_time] = df_2[target_arrival_to] - df_2[target_departure_from]"
   ]
  },
  {
   "cell_type": "markdown",
   "metadata": {},
   "source": [
    "# Plotting"
   ]
  },
  {
   "cell_type": "code",
   "execution_count": 14,
   "metadata": {},
   "outputs": [
    {
     "data": {
      "text/plain": [
       "{3}"
      ]
     },
     "execution_count": 14,
     "metadata": {},
     "output_type": "execute_result"
    }
   ],
   "source": [
    "set(df_2['kurs'])"
   ]
  },
  {
   "cell_type": "code",
   "execution_count": 15,
   "metadata": {},
   "outputs": [
    {
     "data": {
      "text/html": [
       "<div>\n",
       "<style scoped>\n",
       "    .dataframe tbody tr th:only-of-type {\n",
       "        vertical-align: middle;\n",
       "    }\n",
       "\n",
       "    .dataframe tbody tr th {\n",
       "        vertical-align: top;\n",
       "    }\n",
       "\n",
       "    .dataframe thead th {\n",
       "        text-align: right;\n",
       "    }\n",
       "</style>\n",
       "<table border=\"1\" class=\"dataframe\">\n",
       "  <thead>\n",
       "    <tr style=\"text-align: right;\">\n",
       "      <th></th>\n",
       "      <th>soll_an_von</th>\n",
       "      <th>ist_an_von</th>\n",
       "      <th>soll_ab_von</th>\n",
       "      <th>ist_ab_von</th>\n",
       "      <th>soll_an_nach</th>\n",
       "      <th>ist_an_nach1</th>\n",
       "      <th>soll_ab_nach</th>\n",
       "      <th>ist_ab_nach</th>\n",
       "      <th>kurs</th>\n",
       "      <th>target_stationary</th>\n",
       "      <th>target_travel_time</th>\n",
       "    </tr>\n",
       "  </thead>\n",
       "  <tbody>\n",
       "    <tr>\n",
       "      <th>196133</th>\n",
       "      <td>0</td>\n",
       "      <td>-17</td>\n",
       "      <td>12</td>\n",
       "      <td>-5</td>\n",
       "      <td>54</td>\n",
       "      <td>44</td>\n",
       "      <td>66</td>\n",
       "      <td>52</td>\n",
       "      <td>3</td>\n",
       "      <td>12</td>\n",
       "      <td>42</td>\n",
       "    </tr>\n",
       "    <tr>\n",
       "      <th>509028</th>\n",
       "      <td>54</td>\n",
       "      <td>44</td>\n",
       "      <td>66</td>\n",
       "      <td>52</td>\n",
       "      <td>114</td>\n",
       "      <td>97</td>\n",
       "      <td>132</td>\n",
       "      <td>101</td>\n",
       "      <td>3</td>\n",
       "      <td>12</td>\n",
       "      <td>48</td>\n",
       "    </tr>\n",
       "    <tr>\n",
       "      <th>56736</th>\n",
       "      <td>114</td>\n",
       "      <td>97</td>\n",
       "      <td>132</td>\n",
       "      <td>101</td>\n",
       "      <td>192</td>\n",
       "      <td>178</td>\n",
       "      <td>204</td>\n",
       "      <td>178</td>\n",
       "      <td>3</td>\n",
       "      <td>18</td>\n",
       "      <td>60</td>\n",
       "    </tr>\n",
       "    <tr>\n",
       "      <th>301352</th>\n",
       "      <td>192</td>\n",
       "      <td>178</td>\n",
       "      <td>204</td>\n",
       "      <td>178</td>\n",
       "      <td>282</td>\n",
       "      <td>259</td>\n",
       "      <td>300</td>\n",
       "      <td>276</td>\n",
       "      <td>3</td>\n",
       "      <td>12</td>\n",
       "      <td>78</td>\n",
       "    </tr>\n",
       "    <tr>\n",
       "      <th>305833</th>\n",
       "      <td>282</td>\n",
       "      <td>259</td>\n",
       "      <td>300</td>\n",
       "      <td>276</td>\n",
       "      <td>336</td>\n",
       "      <td>311</td>\n",
       "      <td>348</td>\n",
       "      <td>325</td>\n",
       "      <td>3</td>\n",
       "      <td>18</td>\n",
       "      <td>36</td>\n",
       "    </tr>\n",
       "  </tbody>\n",
       "</table>\n",
       "</div>"
      ],
      "text/plain": [
       "        soll_an_von  ist_an_von  soll_ab_von  ist_ab_von  soll_an_nach  \\\n",
       "196133            0         -17           12          -5            54   \n",
       "509028           54          44           66          52           114   \n",
       "56736           114          97          132         101           192   \n",
       "301352          192         178          204         178           282   \n",
       "305833          282         259          300         276           336   \n",
       "\n",
       "        ist_an_nach1  soll_ab_nach  ist_ab_nach  kurs  target_stationary  \\\n",
       "196133            44            66           52     3                 12   \n",
       "509028            97           132          101     3                 12   \n",
       "56736            178           204          178     3                 18   \n",
       "301352           259           300          276     3                 12   \n",
       "305833           311           348          325     3                 18   \n",
       "\n",
       "        target_travel_time  \n",
       "196133                  42  \n",
       "509028                  48  \n",
       "56736                   60  \n",
       "301352                  78  \n",
       "305833                  36  "
      ]
     },
     "execution_count": 15,
     "metadata": {},
     "output_type": "execute_result"
    }
   ],
   "source": [
    "df_2 = df_2[df_2['kurs'] == 3]\n",
    "df_2 = df_2.sort_values(by=[actual_arrival_from])\n",
    "df_2.head()"
   ]
  },
  {
   "cell_type": "code",
   "execution_count": 16,
   "metadata": {},
   "outputs": [
    {
     "name": "stdout",
     "output_type": "stream",
     "text": [
      "Using matplotlib backend: Qt5Agg\n"
     ]
    },
    {
     "data": {
      "text/plain": [
       "Text(0, 0.5, 'time of the day')"
      ]
     },
     "execution_count": 16,
     "metadata": {},
     "output_type": "execute_result"
    }
   ],
   "source": [
    "# Plotting target arrival from  vs target_departure_from\n",
    "%matplotlib\n",
    "plt.title('target arrival from  vs target departure from')\n",
    "plt.scatter(range(len(df_2)), df_2[target_arrival_from], c='k')\n",
    "plt.scatter(range(len(df_2)), df_2[target_departure_from], c='y')\n",
    "plt.xlabel('instance of recording')\n",
    "plt.ylabel('time of the day')"
   ]
  },
  {
   "cell_type": "markdown",
   "metadata": {},
   "source": [
    "# Another way to visualize"
   ]
  },
  {
   "cell_type": "code",
   "execution_count": 17,
   "metadata": {},
   "outputs": [
    {
     "name": "stdout",
     "output_type": "stream",
     "text": [
      "Using matplotlib backend: Qt5Agg\n"
     ]
    },
    {
     "data": {
      "text/plain": [
       "<matplotlib.collections.PathCollection at 0x218d85c4448>"
      ]
     },
     "execution_count": 17,
     "metadata": {},
     "output_type": "execute_result"
    }
   ],
   "source": [
    "# Plotting target arrival from  vs target_departure_from\n",
    "\n",
    "%matplotlib\n",
    "plt.title('target arrival from  vs target departure from')\n",
    "plt.scatter(range(0, 2 *len(df_2), 2), df_2[target_arrival_from], c='k')\n",
    "plt.scatter(range(1, 2 *len(df_2), 2), df_2[target_departure_from], c='y')"
   ]
  },
  {
   "cell_type": "markdown",
   "metadata": {},
   "source": []
  },
  {
   "cell_type": "markdown",
   "metadata": {},
   "source": [
    "# Filtering the course changes\n",
    "Plotting the target arrival and departures of narrowed data - filtered the course changes - # cell below changes the df!"
   ]
  },
  {
   "cell_type": "code",
   "execution_count": 18,
   "metadata": {},
   "outputs": [],
   "source": [
    "# Find the delay at each timestamp - just the actual - target\n",
    "# side note: keep sequence change in mind!!!!\n",
    "df_2['delay'] = df_2[actual_arrival_from] - df_2[target_arrival_from]\n",
    "\n",
    "# Now, finding where the route is changing, i.e. the direction is changing or the sequence is resetting. These points\n",
    "# seem to introduce a significant amount of delay, therefore going to remove these points, as it seems like the bus\n",
    "# is waiting for a particular reason at the spot before changing its course\n",
    "\n",
    "df_2[target_departure_from] = df_2[target_departure_from].shift(-1)\n",
    "\n",
    "df_2['res3'] = df_2[target_departure_from] - df_2[target_departure_to]\n",
    "\n",
    "df_2['course_change'] = df_2['res3'] > 0\n",
    "\n",
    "# To find where the course is changing - later, these values get deleted for some plots\n",
    "df_2 = df_2[df_2['course_change'] == False]\n",
    "\n",
    "# Skip some of the larger delays - need to find out why these large (sometimes a few hours) happen\n",
    "df_2 = df_2[abs(df_2['delay']) < 1800]"
   ]
  },
  {
   "cell_type": "code",
   "execution_count": 19,
   "metadata": {},
   "outputs": [
    {
     "name": "stdout",
     "output_type": "stream",
     "text": [
      "Using matplotlib backend: Qt5Agg\n"
     ]
    },
    {
     "data": {
      "text/plain": [
       "<matplotlib.collections.PathCollection at 0x218d84ec608>"
      ]
     },
     "execution_count": 19,
     "metadata": {},
     "output_type": "execute_result"
    }
   ],
   "source": [
    "# Plotting target arrival from  vs target_departure_from\n",
    "\n",
    "%matplotlib\n",
    "plt.title('target arrival from  vs target departure from')\n",
    "plt.scatter(range(0, 2 *len(df_2), 2), df_2[target_arrival_from], c='k')\n",
    "# plt.hold(True)\n",
    "plt.scatter(range(1, 2 *len(df_2), 2), df_2[target_departure_from], c='y')"
   ]
  },
  {
   "cell_type": "code",
   "execution_count": 20,
   "metadata": {},
   "outputs": [
    {
     "data": {
      "text/plain": [
       "3    819\n",
       "Name: kurs, dtype: int64"
      ]
     },
     "execution_count": 20,
     "metadata": {},
     "output_type": "execute_result"
    }
   ],
   "source": [
    "# see how datapoints are distributed by kurs\n",
    "df_2.kurs.value_counts()[:5]"
   ]
  },
  {
   "cell_type": "code",
   "execution_count": 21,
   "metadata": {},
   "outputs": [],
   "source": [
    "# Box plot for delays"
   ]
  },
  {
   "cell_type": "code",
   "execution_count": 22,
   "metadata": {},
   "outputs": [],
   "source": [
    "time_period = 1800\n",
    "starting_time = 0\n",
    "# indicates 30 mins intervals\n",
    "# Number of bins:\n",
    "n_bins = int(np.floor((86400 - starting_time)/time_period))\n",
    "labels = [i for i in range(n_bins - 1)]\n",
    "# Finding the correct bins:\n",
    "list_of_bins = [starting_time + time_period * i for i in range(n_bins)]\n",
    "df_2['intervals'] = pd.cut(df_2[target_arrival_from], bins=list_of_bins, retbins=False, labels=labels)\n",
    "\n",
    "list_for_box_plot = []\n",
    "\n",
    "for i in labels:\n",
    "    temp = np.array(df_2[target_arrival_from][df_2['intervals'] == i])\n",
    "    list_for_box_plot.append(temp)\n",
    "plt.boxplot(list_for_box_plot)\n",
    "plt.show()"
   ]
  },
  {
   "cell_type": "code",
   "execution_count": 23,
   "metadata": {},
   "outputs": [],
   "source": [
    "# average stationary and travel time bar graphs"
   ]
  },
  {
   "cell_type": "code",
   "execution_count": 24,
   "metadata": {},
   "outputs": [],
   "source": [
    "time_period = 1800\n",
    "starting_time = 0\n",
    "\n",
    "# indicates 30 mins intervals\n",
    "\n",
    "# Number of bins:\n",
    "n_bins = int(np.floor((86400 - starting_time)/time_period))\n",
    "labels = [i for i in range(n_bins - 1)]\n",
    "\n",
    "# Finding the correct bins:\n",
    "list_of_bins = [starting_time + time_period * i for i in range(n_bins)]\n",
    "\n",
    "df_2['intervals'] = pd.cut(df_2[target_arrival_from], bins=list_of_bins, retbins=False, labels=labels)\n",
    "\n",
    "# to make the plotting more readible\n",
    "labels_text = list_of_bins\n",
    "\n",
    "\n",
    "avgs_stationary = []\n",
    "# Averaging:\n",
    "for i in labels:\n",
    "    avgs_stationary.append(df_2[df_2['intervals'] == i].mean()[target_stationary])\n",
    "for i in range(len(avgs_stationary)):\n",
    "    if np.isnan(avgs_stationary[i]):\n",
    "        avgs_stationary[i] = 0\n",
    "\n",
    "avgs_travel_time = []\n",
    "# Averaging:\n",
    "for i in labels:\n",
    "    avgs_travel_time.append(df_2[df_2['intervals'] == i].mean()[target_travel_time])\n",
    "for i in range(len(avgs_travel_time)):\n",
    "    if np.isnan(avgs_travel_time[i]):\n",
    "        avgs_travel_time[i] = 0\n",
    "\n",
    "# plotting stationary\n",
    "f_1 = plt.figure(1)\n",
    "\n",
    "plt.xlabel('time of the day')\n",
    "plt.ylabel('stationary time in seconds - target')\n",
    "plt.title('Target stationary times in seconds')\n",
    "plt.xticks(labels, [\n",
    "'0:00','0:30','','1:30','','2:30','','3:30','','4:30','','5:30','','6:30','','7:30','','8:30','',\n",
    "'9:30','','10:30','','11:30','','12:30','','13:30','','14:30','',\n",
    "'15:30','','16:30','','17:30','','18:30','','19:30','','20:30','',\n",
    "'21:30','','22:30','','23:30'])\n",
    "plt.bar(labels, avgs_stationary)\n",
    "plt.show()\n",
    "\n",
    "# plotting stationary\n",
    "f_2 = plt.figure(2)\n",
    "\n",
    "plt.xlabel('time of the day')\n",
    "plt.ylabel('travel time in seconds - target')\n",
    "plt.title('Target travel times in seconds')\n",
    "plt.xticks(labels, [\n",
    "'0:00','0:30','','1:30','','2:30','','3:30','','4:30','','5:30','','6:30','','7:30','','8:30','',\n",
    "'9:30','','10:30','','11:30','','12:30','','13:30','','14:30','',\n",
    "'15:30','','16:30','','17:30','','18:30','','19:30','','20:30','',\n",
    "'21:30','','22:30','','23:30'])\n",
    "plt.bar(labels, avgs_travel_time)\n",
    "plt.show()"
   ]
  },
  {
   "cell_type": "code",
   "execution_count": 25,
   "metadata": {},
   "outputs": [
    {
     "data": {
      "text/plain": [
       "{'whiskers': [<matplotlib.lines.Line2D at 0x218d83e6a48>,\n",
       "  <matplotlib.lines.Line2D at 0x218d83e0588>,\n",
       "  <matplotlib.lines.Line2D at 0x218d83e9188>,\n",
       "  <matplotlib.lines.Line2D at 0x218d84066c8>,\n",
       "  <matplotlib.lines.Line2D at 0x218d8440388>,\n",
       "  <matplotlib.lines.Line2D at 0x218d843c988>,\n",
       "  <matplotlib.lines.Line2D at 0x218d843a908>,\n",
       "  <matplotlib.lines.Line2D at 0x218d843a248>,\n",
       "  <matplotlib.lines.Line2D at 0x218d843bb88>,\n",
       "  <matplotlib.lines.Line2D at 0x218d84381c8>,\n",
       "  <matplotlib.lines.Line2D at 0x218d845b4c8>,\n",
       "  <matplotlib.lines.Line2D at 0x218d845b408>,\n",
       "  <matplotlib.lines.Line2D at 0x218d8457c08>,\n",
       "  <matplotlib.lines.Line2D at 0x218d845e988>,\n",
       "  <matplotlib.lines.Line2D at 0x218d79e6948>,\n",
       "  <matplotlib.lines.Line2D at 0x218d79e6748>,\n",
       "  <matplotlib.lines.Line2D at 0x218d843bd88>,\n",
       "  <matplotlib.lines.Line2D at 0x218d79de748>,\n",
       "  <matplotlib.lines.Line2D at 0x218d79fe088>,\n",
       "  <matplotlib.lines.Line2D at 0x218d79fe588>,\n",
       "  <matplotlib.lines.Line2D at 0x218d7a02548>,\n",
       "  <matplotlib.lines.Line2D at 0x218d7a02648>,\n",
       "  <matplotlib.lines.Line2D at 0x218d79fd1c8>,\n",
       "  <matplotlib.lines.Line2D at 0x218d7a04a88>,\n",
       "  <matplotlib.lines.Line2D at 0x218d79fcdc8>,\n",
       "  <matplotlib.lines.Line2D at 0x218d79ff088>,\n",
       "  <matplotlib.lines.Line2D at 0x218d7a21bc8>,\n",
       "  <matplotlib.lines.Line2D at 0x218d7a1a208>,\n",
       "  <matplotlib.lines.Line2D at 0x218d7a19848>,\n",
       "  <matplotlib.lines.Line2D at 0x218d7a18148>,\n",
       "  <matplotlib.lines.Line2D at 0x218d7a3c388>,\n",
       "  <matplotlib.lines.Line2D at 0x218d7a35fc8>,\n",
       "  <matplotlib.lines.Line2D at 0x218d7a38f88>,\n",
       "  <matplotlib.lines.Line2D at 0x218d7a37ec8>,\n",
       "  <matplotlib.lines.Line2D at 0x218d7a55748>,\n",
       "  <matplotlib.lines.Line2D at 0x218d7a5dcc8>,\n",
       "  <matplotlib.lines.Line2D at 0x218d7a54e48>,\n",
       "  <matplotlib.lines.Line2D at 0x218d80c5708>,\n",
       "  <matplotlib.lines.Line2D at 0x218d80c0cc8>,\n",
       "  <matplotlib.lines.Line2D at 0x218d80c1e48>,\n",
       "  <matplotlib.lines.Line2D at 0x218d80fcf48>,\n",
       "  <matplotlib.lines.Line2D at 0x218d8106408>,\n",
       "  <matplotlib.lines.Line2D at 0x218d8124fc8>,\n",
       "  <matplotlib.lines.Line2D at 0x218d81421c8>,\n",
       "  <matplotlib.lines.Line2D at 0x218d8580088>,\n",
       "  <matplotlib.lines.Line2D at 0x218d85874c8>,\n",
       "  <matplotlib.lines.Line2D at 0x218d78f4a88>,\n",
       "  <matplotlib.lines.Line2D at 0x218d78f4708>,\n",
       "  <matplotlib.lines.Line2D at 0x218d791bf88>,\n",
       "  <matplotlib.lines.Line2D at 0x218d84908c8>,\n",
       "  <matplotlib.lines.Line2D at 0x218d79e3048>,\n",
       "  <matplotlib.lines.Line2D at 0x218d79e4348>,\n",
       "  <matplotlib.lines.Line2D at 0x218d8475d88>,\n",
       "  <matplotlib.lines.Line2D at 0x218d8474ec8>,\n",
       "  <matplotlib.lines.Line2D at 0x218d847bac8>,\n",
       "  <matplotlib.lines.Line2D at 0x218d8472188>,\n",
       "  <matplotlib.lines.Line2D at 0x218d84762c8>,\n",
       "  <matplotlib.lines.Line2D at 0x218d8478bc8>,\n",
       "  <matplotlib.lines.Line2D at 0x218d8498b08>,\n",
       "  <matplotlib.lines.Line2D at 0x218d8499b88>,\n",
       "  <matplotlib.lines.Line2D at 0x218d8499b48>,\n",
       "  <matplotlib.lines.Line2D at 0x218d8491f08>,\n",
       "  <matplotlib.lines.Line2D at 0x218d7938088>,\n",
       "  <matplotlib.lines.Line2D at 0x218d796efc8>,\n",
       "  <matplotlib.lines.Line2D at 0x218d79cae88>,\n",
       "  <matplotlib.lines.Line2D at 0x218d7990e88>,\n",
       "  <matplotlib.lines.Line2D at 0x218d84b4e48>,\n",
       "  <matplotlib.lines.Line2D at 0x218d7933b48>,\n",
       "  <matplotlib.lines.Line2D at 0x218d79c3308>,\n",
       "  <matplotlib.lines.Line2D at 0x218d794b1c8>,\n",
       "  <matplotlib.lines.Line2D at 0x218d794bc48>,\n",
       "  <matplotlib.lines.Line2D at 0x218d79691c8>,\n",
       "  <matplotlib.lines.Line2D at 0x218d7951e08>,\n",
       "  <matplotlib.lines.Line2D at 0x218d7953808>,\n",
       "  <matplotlib.lines.Line2D at 0x218d79535c8>,\n",
       "  <matplotlib.lines.Line2D at 0x218d7954448>,\n",
       "  <matplotlib.lines.Line2D at 0x218d796de08>,\n",
       "  <matplotlib.lines.Line2D at 0x218d794fc48>,\n",
       "  <matplotlib.lines.Line2D at 0x218d7952d08>,\n",
       "  <matplotlib.lines.Line2D at 0x218d794d708>,\n",
       "  <matplotlib.lines.Line2D at 0x218d7950188>,\n",
       "  <matplotlib.lines.Line2D at 0x218d7930fc8>,\n",
       "  <matplotlib.lines.Line2D at 0x218d7932808>,\n",
       "  <matplotlib.lines.Line2D at 0x218d792fec8>,\n",
       "  <matplotlib.lines.Line2D at 0x218d8339c88>,\n",
       "  <matplotlib.lines.Line2D at 0x218d8339dc8>,\n",
       "  <matplotlib.lines.Line2D at 0x218d84b0a88>,\n",
       "  <matplotlib.lines.Line2D at 0x218d78fb488>,\n",
       "  <matplotlib.lines.Line2D at 0x218d84b18c8>,\n",
       "  <matplotlib.lines.Line2D at 0x218d84b16c8>,\n",
       "  <matplotlib.lines.Line2D at 0x218d8494ec8>,\n",
       "  <matplotlib.lines.Line2D at 0x218d849af88>,\n",
       "  <matplotlib.lines.Line2D at 0x218d84ce4c8>,\n",
       "  <matplotlib.lines.Line2D at 0x218d84d1408>],\n",
       " 'caps': [<matplotlib.lines.Line2D at 0x218d83e0548>,\n",
       "  <matplotlib.lines.Line2D at 0x218d83e2408>,\n",
       "  <matplotlib.lines.Line2D at 0x218d84069c8>,\n",
       "  <matplotlib.lines.Line2D at 0x218d84068c8>,\n",
       "  <matplotlib.lines.Line2D at 0x218d843c448>,\n",
       "  <matplotlib.lines.Line2D at 0x218d843c348>,\n",
       "  <matplotlib.lines.Line2D at 0x218d843a2c8>,\n",
       "  <matplotlib.lines.Line2D at 0x218d843adc8>,\n",
       "  <matplotlib.lines.Line2D at 0x218d84428c8>,\n",
       "  <matplotlib.lines.Line2D at 0x218d843b5c8>,\n",
       "  <matplotlib.lines.Line2D at 0x218d845b6c8>,\n",
       "  <matplotlib.lines.Line2D at 0x218d845e688>,\n",
       "  <matplotlib.lines.Line2D at 0x218d8456108>,\n",
       "  <matplotlib.lines.Line2D at 0x218d8456608>,\n",
       "  <matplotlib.lines.Line2D at 0x218d79e6fc8>,\n",
       "  <matplotlib.lines.Line2D at 0x218d79e1b08>,\n",
       "  <matplotlib.lines.Line2D at 0x218d79e2708>,\n",
       "  <matplotlib.lines.Line2D at 0x218d79e2a88>,\n",
       "  <matplotlib.lines.Line2D at 0x218d79fe208>,\n",
       "  <matplotlib.lines.Line2D at 0x218d7a01e48>,\n",
       "  <matplotlib.lines.Line2D at 0x218d7a00588>,\n",
       "  <matplotlib.lines.Line2D at 0x218d7a00488>,\n",
       "  <matplotlib.lines.Line2D at 0x218d7a04b88>,\n",
       "  <matplotlib.lines.Line2D at 0x218d79fcf08>,\n",
       "  <matplotlib.lines.Line2D at 0x218d7a1d448>,\n",
       "  <matplotlib.lines.Line2D at 0x218d7a1d148>,\n",
       "  <matplotlib.lines.Line2D at 0x218d7a1a048>,\n",
       "  <matplotlib.lines.Line2D at 0x218d7a19ec8>,\n",
       "  <matplotlib.lines.Line2D at 0x218d7a39cc8>,\n",
       "  <matplotlib.lines.Line2D at 0x218d7a39e88>,\n",
       "  <matplotlib.lines.Line2D at 0x218d7a35388>,\n",
       "  <matplotlib.lines.Line2D at 0x218d7a38048>,\n",
       "  <matplotlib.lines.Line2D at 0x218d7a3b308>,\n",
       "  <matplotlib.lines.Line2D at 0x218d7a3bbc8>,\n",
       "  <matplotlib.lines.Line2D at 0x218d7a5d288>,\n",
       "  <matplotlib.lines.Line2D at 0x218d7a57e48>,\n",
       "  <matplotlib.lines.Line2D at 0x218d80c5a88>,\n",
       "  <matplotlib.lines.Line2D at 0x218d80c55c8>,\n",
       "  <matplotlib.lines.Line2D at 0x218d80e8308>,\n",
       "  <matplotlib.lines.Line2D at 0x218d80e8ac8>,\n",
       "  <matplotlib.lines.Line2D at 0x218d8106288>,\n",
       "  <matplotlib.lines.Line2D at 0x218d80e8e88>,\n",
       "  <matplotlib.lines.Line2D at 0x218d81613c8>,\n",
       "  <matplotlib.lines.Line2D at 0x218d8161288>,\n",
       "  <matplotlib.lines.Line2D at 0x218d7915908>,\n",
       "  <matplotlib.lines.Line2D at 0x218d7915808>,\n",
       "  <matplotlib.lines.Line2D at 0x218d76ed448>,\n",
       "  <matplotlib.lines.Line2D at 0x218d78f4548>,\n",
       "  <matplotlib.lines.Line2D at 0x218d8497548>,\n",
       "  <matplotlib.lines.Line2D at 0x218d8497608>,\n",
       "  <matplotlib.lines.Line2D at 0x218d79e4508>,\n",
       "  <matplotlib.lines.Line2D at 0x218d84d2e88>,\n",
       "  <matplotlib.lines.Line2D at 0x218d7912348>,\n",
       "  <matplotlib.lines.Line2D at 0x218d7912088>,\n",
       "  <matplotlib.lines.Line2D at 0x218d8472588>,\n",
       "  <matplotlib.lines.Line2D at 0x218d847b9c8>,\n",
       "  <matplotlib.lines.Line2D at 0x218d79ae388>,\n",
       "  <matplotlib.lines.Line2D at 0x218d79aef88>,\n",
       "  <matplotlib.lines.Line2D at 0x218d8499688>,\n",
       "  <matplotlib.lines.Line2D at 0x218d8498ec8>,\n",
       "  <matplotlib.lines.Line2D at 0x218d7968948>,\n",
       "  <matplotlib.lines.Line2D at 0x218d7968148>,\n",
       "  <matplotlib.lines.Line2D at 0x218d7968588>,\n",
       "  <matplotlib.lines.Line2D at 0x218d7972b88>,\n",
       "  <matplotlib.lines.Line2D at 0x218d7990b08>,\n",
       "  <matplotlib.lines.Line2D at 0x218d7972988>,\n",
       "  <matplotlib.lines.Line2D at 0x218d79c6348>,\n",
       "  <matplotlib.lines.Line2D at 0x218d79c6d08>,\n",
       "  <matplotlib.lines.Line2D at 0x218d794bd08>,\n",
       "  <matplotlib.lines.Line2D at 0x218d79c3108>,\n",
       "  <matplotlib.lines.Line2D at 0x218d796a2c8>,\n",
       "  <matplotlib.lines.Line2D at 0x218d796a0c8>,\n",
       "  <matplotlib.lines.Line2D at 0x218d7953e08>,\n",
       "  <matplotlib.lines.Line2D at 0x218d7951bc8>,\n",
       "  <matplotlib.lines.Line2D at 0x218d796ccc8>,\n",
       "  <matplotlib.lines.Line2D at 0x218d796c448>,\n",
       "  <matplotlib.lines.Line2D at 0x218d796da08>,\n",
       "  <matplotlib.lines.Line2D at 0x218d78f3188>,\n",
       "  <matplotlib.lines.Line2D at 0x218d794d548>,\n",
       "  <matplotlib.lines.Line2D at 0x218d79520c8>,\n",
       "  <matplotlib.lines.Line2D at 0x218d7931788>,\n",
       "  <matplotlib.lines.Line2D at 0x218d7931e08>,\n",
       "  <matplotlib.lines.Line2D at 0x218d7936048>,\n",
       "  <matplotlib.lines.Line2D at 0x218d7936708>,\n",
       "  <matplotlib.lines.Line2D at 0x218d79e0fc8>,\n",
       "  <matplotlib.lines.Line2D at 0x218d79e0588>,\n",
       "  <matplotlib.lines.Line2D at 0x218d78fb608>,\n",
       "  <matplotlib.lines.Line2D at 0x218d78f5888>,\n",
       "  <matplotlib.lines.Line2D at 0x218d7914dc8>,\n",
       "  <matplotlib.lines.Line2D at 0x218d7914b88>,\n",
       "  <matplotlib.lines.Line2D at 0x218d849af48>,\n",
       "  <matplotlib.lines.Line2D at 0x218d8494048>,\n",
       "  <matplotlib.lines.Line2D at 0x218d8496a48>,\n",
       "  <matplotlib.lines.Line2D at 0x218d8496f48>],\n",
       " 'boxes': [<matplotlib.lines.Line2D at 0x218d83e6608>,\n",
       "  <matplotlib.lines.Line2D at 0x218d83e9788>,\n",
       "  <matplotlib.lines.Line2D at 0x218d8440108>,\n",
       "  <matplotlib.lines.Line2D at 0x218d84236c8>,\n",
       "  <matplotlib.lines.Line2D at 0x218d843b448>,\n",
       "  <matplotlib.lines.Line2D at 0x218d843bd48>,\n",
       "  <matplotlib.lines.Line2D at 0x218d8457d88>,\n",
       "  <matplotlib.lines.Line2D at 0x218d79e5188>,\n",
       "  <matplotlib.lines.Line2D at 0x218d79e6908>,\n",
       "  <matplotlib.lines.Line2D at 0x218d79e8a48>,\n",
       "  <matplotlib.lines.Line2D at 0x218d79fe248>,\n",
       "  <matplotlib.lines.Line2D at 0x218d79fdac8>,\n",
       "  <matplotlib.lines.Line2D at 0x218d7a04488>,\n",
       "  <matplotlib.lines.Line2D at 0x218d7a216c8>,\n",
       "  <matplotlib.lines.Line2D at 0x218d7a1a588>,\n",
       "  <matplotlib.lines.Line2D at 0x218d7a18c48>,\n",
       "  <matplotlib.lines.Line2D at 0x218d7a37648>,\n",
       "  <matplotlib.lines.Line2D at 0x218d7a37248>,\n",
       "  <matplotlib.lines.Line2D at 0x218d7a54688>,\n",
       "  <matplotlib.lines.Line2D at 0x218d7a54248>,\n",
       "  <matplotlib.lines.Line2D at 0x218d80fce08>,\n",
       "  <matplotlib.lines.Line2D at 0x218d80fc808>,\n",
       "  <matplotlib.lines.Line2D at 0x218d817e3c8>,\n",
       "  <matplotlib.lines.Line2D at 0x218d78f40c8>,\n",
       "  <matplotlib.lines.Line2D at 0x218d8490a48>,\n",
       "  <matplotlib.lines.Line2D at 0x218d79e3088>,\n",
       "  <matplotlib.lines.Line2D at 0x218d79e4b08>,\n",
       "  <matplotlib.lines.Line2D at 0x218d847b808>,\n",
       "  <matplotlib.lines.Line2D at 0x218d847b788>,\n",
       "  <matplotlib.lines.Line2D at 0x218d84983c8>,\n",
       "  <matplotlib.lines.Line2D at 0x218d8499648>,\n",
       "  <matplotlib.lines.Line2D at 0x218d8491908>,\n",
       "  <matplotlib.lines.Line2D at 0x218d79ca488>,\n",
       "  <matplotlib.lines.Line2D at 0x218d79caa08>,\n",
       "  <matplotlib.lines.Line2D at 0x218d7933808>,\n",
       "  <matplotlib.lines.Line2D at 0x218d794b588>,\n",
       "  <matplotlib.lines.Line2D at 0x218d7969fc8>,\n",
       "  <matplotlib.lines.Line2D at 0x218d794cbc8>,\n",
       "  <matplotlib.lines.Line2D at 0x218d794c288>,\n",
       "  <matplotlib.lines.Line2D at 0x218d79524c8>,\n",
       "  <matplotlib.lines.Line2D at 0x218d794d888>,\n",
       "  <matplotlib.lines.Line2D at 0x218d7930b88>,\n",
       "  <matplotlib.lines.Line2D at 0x218d792f708>,\n",
       "  <matplotlib.lines.Line2D at 0x218d854dc08>,\n",
       "  <matplotlib.lines.Line2D at 0x218d78fb688>,\n",
       "  <matplotlib.lines.Line2D at 0x218d8494d08>,\n",
       "  <matplotlib.lines.Line2D at 0x218d849ac08>],\n",
       " 'medians': [<matplotlib.lines.Line2D at 0x218d83e2fc8>,\n",
       "  <matplotlib.lines.Line2D at 0x218d8423e88>,\n",
       "  <matplotlib.lines.Line2D at 0x218d8439208>,\n",
       "  <matplotlib.lines.Line2D at 0x218d84385c8>,\n",
       "  <matplotlib.lines.Line2D at 0x218d843b388>,\n",
       "  <matplotlib.lines.Line2D at 0x218d845e808>,\n",
       "  <matplotlib.lines.Line2D at 0x218d8457ac8>,\n",
       "  <matplotlib.lines.Line2D at 0x218d79e1688>,\n",
       "  <matplotlib.lines.Line2D at 0x218d79de448>,\n",
       "  <matplotlib.lines.Line2D at 0x218d7a012c8>,\n",
       "  <matplotlib.lines.Line2D at 0x218d7a021c8>,\n",
       "  <matplotlib.lines.Line2D at 0x218d79fc2c8>,\n",
       "  <matplotlib.lines.Line2D at 0x218d79ff1c8>,\n",
       "  <matplotlib.lines.Line2D at 0x218d7a19548>,\n",
       "  <matplotlib.lines.Line2D at 0x218d7a39248>,\n",
       "  <matplotlib.lines.Line2D at 0x218d7a38c08>,\n",
       "  <matplotlib.lines.Line2D at 0x218d7a554c8>,\n",
       "  <matplotlib.lines.Line2D at 0x218d7a57ac8>,\n",
       "  <matplotlib.lines.Line2D at 0x218d80c0c88>,\n",
       "  <matplotlib.lines.Line2D at 0x218d80e8348>,\n",
       "  <matplotlib.lines.Line2D at 0x218d81248c8>,\n",
       "  <matplotlib.lines.Line2D at 0x218d8161d48>,\n",
       "  <matplotlib.lines.Line2D at 0x218d7915dc8>,\n",
       "  <matplotlib.lines.Line2D at 0x218d791b188>,\n",
       "  <matplotlib.lines.Line2D at 0x218d8497948>,\n",
       "  <matplotlib.lines.Line2D at 0x218d79e4a48>,\n",
       "  <matplotlib.lines.Line2D at 0x218d7912fc8>,\n",
       "  <matplotlib.lines.Line2D at 0x218d84760c8>,\n",
       "  <matplotlib.lines.Line2D at 0x218d79ae208>,\n",
       "  <matplotlib.lines.Line2D at 0x218d8499908>,\n",
       "  <matplotlib.lines.Line2D at 0x218d79687c8>,\n",
       "  <matplotlib.lines.Line2D at 0x218d7972dc8>,\n",
       "  <matplotlib.lines.Line2D at 0x218d84b4508>,\n",
       "  <matplotlib.lines.Line2D at 0x218d79c60c8>,\n",
       "  <matplotlib.lines.Line2D at 0x218d796bc48>,\n",
       "  <matplotlib.lines.Line2D at 0x218d796a1c8>,\n",
       "  <matplotlib.lines.Line2D at 0x218d7954108>,\n",
       "  <matplotlib.lines.Line2D at 0x218d796c888>,\n",
       "  <matplotlib.lines.Line2D at 0x218d78f3ac8>,\n",
       "  <matplotlib.lines.Line2D at 0x218d79507c8>,\n",
       "  <matplotlib.lines.Line2D at 0x218d7932dc8>,\n",
       "  <matplotlib.lines.Line2D at 0x218d79368c8>,\n",
       "  <matplotlib.lines.Line2D at 0x218d79e0a08>,\n",
       "  <matplotlib.lines.Line2D at 0x218d78f5fc8>,\n",
       "  <matplotlib.lines.Line2D at 0x218d7914108>,\n",
       "  <matplotlib.lines.Line2D at 0x218d84cec08>,\n",
       "  <matplotlib.lines.Line2D at 0x218d8443b88>],\n",
       " 'fliers': [<matplotlib.lines.Line2D at 0x218d83e21c8>,\n",
       "  <matplotlib.lines.Line2D at 0x218d8423848>,\n",
       "  <matplotlib.lines.Line2D at 0x218d8439e88>,\n",
       "  <matplotlib.lines.Line2D at 0x218d8438b88>,\n",
       "  <matplotlib.lines.Line2D at 0x218d8459908>,\n",
       "  <matplotlib.lines.Line2D at 0x218d845eac8>,\n",
       "  <matplotlib.lines.Line2D at 0x218d79e5048>,\n",
       "  <matplotlib.lines.Line2D at 0x218d79e1108>,\n",
       "  <matplotlib.lines.Line2D at 0x218d79e2bc8>,\n",
       "  <matplotlib.lines.Line2D at 0x218d7a01a48>,\n",
       "  <matplotlib.lines.Line2D at 0x218d79fda48>,\n",
       "  <matplotlib.lines.Line2D at 0x218d79fcec8>,\n",
       "  <matplotlib.lines.Line2D at 0x218d7a21e08>,\n",
       "  <matplotlib.lines.Line2D at 0x218d7a194c8>,\n",
       "  <matplotlib.lines.Line2D at 0x218d7a3ce08>,\n",
       "  <matplotlib.lines.Line2D at 0x218d7a35dc8>,\n",
       "  <matplotlib.lines.Line2D at 0x218d7a55f08>,\n",
       "  <matplotlib.lines.Line2D at 0x218d7a544c8>,\n",
       "  <matplotlib.lines.Line2D at 0x218d80c0988>,\n",
       "  <matplotlib.lines.Line2D at 0x218d80fc4c8>,\n",
       "  <matplotlib.lines.Line2D at 0x218d8124a08>,\n",
       "  <matplotlib.lines.Line2D at 0x218d817eec8>,\n",
       "  <matplotlib.lines.Line2D at 0x218d78f4808>,\n",
       "  <matplotlib.lines.Line2D at 0x218d791b4c8>,\n",
       "  <matplotlib.lines.Line2D at 0x218d79e3388>,\n",
       "  <matplotlib.lines.Line2D at 0x218d8475c88>,\n",
       "  <matplotlib.lines.Line2D at 0x218d8474b08>,\n",
       "  <matplotlib.lines.Line2D at 0x218d8476788>,\n",
       "  <matplotlib.lines.Line2D at 0x218d8498f08>,\n",
       "  <matplotlib.lines.Line2D at 0x218d8495508>,\n",
       "  <matplotlib.lines.Line2D at 0x218d7938ac8>,\n",
       "  <matplotlib.lines.Line2D at 0x218d79cacc8>,\n",
       "  <matplotlib.lines.Line2D at 0x218d84b4688>,\n",
       "  <matplotlib.lines.Line2D at 0x218d79c36c8>,\n",
       "  <matplotlib.lines.Line2D at 0x218d796ba08>,\n",
       "  <matplotlib.lines.Line2D at 0x218d7951508>,\n",
       "  <matplotlib.lines.Line2D at 0x218d7953d88>,\n",
       "  <matplotlib.lines.Line2D at 0x218d796d888>,\n",
       "  <matplotlib.lines.Line2D at 0x218d79528c8>,\n",
       "  <matplotlib.lines.Line2D at 0x218d7950708>,\n",
       "  <matplotlib.lines.Line2D at 0x218d7932ec8>,\n",
       "  <matplotlib.lines.Line2D at 0x218d794e308>,\n",
       "  <matplotlib.lines.Line2D at 0x218d84b0708>,\n",
       "  <matplotlib.lines.Line2D at 0x218d8563e88>,\n",
       "  <matplotlib.lines.Line2D at 0x218d84b1f88>,\n",
       "  <matplotlib.lines.Line2D at 0x218d7676108>,\n",
       "  <matplotlib.lines.Line2D at 0x218d84d1748>],\n",
       " 'means': []}"
      ]
     },
     "execution_count": 25,
     "metadata": {},
     "output_type": "execute_result"
    }
   ],
   "source": [
    "# Removing the mean:\n",
    "\n",
    "for i in range(len(list_for_box_plot) - 1, 0, -1):\n",
    "    if len(list_for_box_plot[i]) != 0:\n",
    "        list_for_box_plot[i] = list_for_box_plot[i] - list_for_box_plot[i-1].mean()\n",
    "    else:\n",
    "        list_for_box_plot[i] = list_for_box_plot[i]\n",
    "\n",
    "\n",
    "labels_text = [i for i in [\n",
    "'0:00','0:30','','1:30','','2:30','','3:30','','4:30','','5:30','','6:30','','7:30','','8:30','',\n",
    "'9:30','','10:30','','11:30','','12:30','','13:30','','14:30','',\n",
    "'15:30','','16:30','','17:30','','18:30','','19:30','','20:30','',\n",
    "'21:30','','22:30','','23:30']]\n",
    "plt.boxplot(list_for_box_plot)"
   ]
  },
  {
   "cell_type": "markdown",
   "metadata": {},
   "source": [
    "# Answer\n",
    "Although kurs signifies the routes within the network, it is not an effective attribute to pivot the dataframe by to find the built in delays. We need a more granular attribute."
   ]
  },
  {
   "cell_type": "markdown",
   "metadata": {},
   "source": [
    "    Drop the course changes again and visualize by color - note, only available if not narrowed"
   ]
  },
  {
   "cell_type": "code",
   "execution_count": null,
   "metadata": {},
   "outputs": [],
   "source": []
  }
 ],
 "metadata": {
  "kernelspec": {
   "display_name": "Python 3",
   "language": "python",
   "name": "python3"
  },
  "language_info": {
   "codemirror_mode": {
    "name": "ipython",
    "version": 3
   },
   "file_extension": ".py",
   "mimetype": "text/x-python",
   "name": "python",
   "nbconvert_exporter": "python",
   "pygments_lexer": "ipython3",
   "version": "3.7.9"
  }
 },
 "nbformat": 4,
 "nbformat_minor": 2
}
