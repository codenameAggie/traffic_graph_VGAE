{
 "cells": [
  {
   "cell_type": "markdown",
   "metadata": {},
   "source": [
    "# Getting started:"
   ]
  },
  {
   "cell_type": "markdown",
   "metadata": {},
   "source": [
    "## For further information, please contact Arash Abdollahzadeh at aa75442@gmail.com or find me on LinkedIn!"
   ]
  },
  {
   "cell_type": "markdown",
   "metadata": {},
   "source": [
    "## Get the data!\n",
    "To get the raw files, refer to \"https://data.stadt-zuerich.ch/dataset?q=vbz\".\n",
    "\n",
    "Years 2015 to 2020 may be found there; however, the notebooks expect first two weeks of 2016's data, so you may download 2016's data here: \"https://data.stadt-zuerich.ch/dataset/vbz_fahrzeiten_ogd_2016\".\n",
    "\n",
    "In addition to the weekly data, be sure to download Haltestelle.csv (stops) and Haltepunkt.csv (stations) as well! Place the files in a directory named travel_times_2016 for example, or modify the first couple of cells of each notebook.\n",
    "\n",
    "There's a data dictionary located on the website referred above."
   ]
  },
  {
   "cell_type": "markdown",
   "metadata": {},
   "source": [
    "## Dependencies\n",
    "\n",
    "Uncomment and run the following cell to install the dependencies or install the youself via pip or conda."
   ]
  },
  {
   "cell_type": "code",
   "execution_count": 3,
   "metadata": {},
   "outputs": [],
   "source": [
    "# ! pip install matplotlib\n",
    "# ! pip install numpy\n",
    "# ! pip install pandas\n",
    "# ! pip install seaborn\n",
    "# ! pip install scikit-learn\n",
    "# ! pip install scipy\n",
    "# ! pip install geopy\n",
    "# ! pip install folium\n",
    "# ! pip install networkx\n",
    "# ! pip install cartopy"
   ]
  },
  {
   "cell_type": "markdown",
   "metadata": {},
   "source": [
    "## The notebooks:\n",
    "\n",
    "### The notebooks are desgined for a granular technical deep-dive into the EDA and signal/graph modeling. For generating a new graph, use the # \n",
    "\n",
    "The notebooks are designed to be explored sequentially. Notebooks 1 - 5 were the result of exploratory data analysis done by Arash Abdollahzadeh, oversaw by Dr. Nick Duffield; it was an effort to define a graph, representing the network of the public transportation of city of Zurich, and define signals on that graph as time-series indices of traffic (modeled via normalizing the difference between the actual travel times of vehicles from expected travel times by the expected travel times).\n",
    "\n",
    "### Nodes:\n",
    "Nodes represent the midpoint of each route.\n",
    "### Edges:\n",
    "Edges are defined by two methods:\n",
    "\n",
    "    Distance(dist): If the distance of the two nodes (midpoint of the route in a physical sense) is less than the specified amount.\n",
    "    Junction: Whether two nodes (routes) share a punkt (bus/tram stop).\n",
    "\n",
    "The graph is taken to be undirected.\n",
    "\n",
    "### Signals:\n",
    "Signals were modeled by finding the difference between the actual travel time and nominal travel time (predetermined by Zurich public transportation system), and then normalizing by the nominal travel time for each route. If there were more than one instance of such measurement for a given time, for a given route, the measurements were simply aggregated via averaging.\n",
    "\n",
    "Notebook 6 is where the graph is created, and it contains scripts for the graph construction, signal creation, and some visualization.\n",
    "\n",
    "Notebook 7 creates a time-evolving map based on the signals and the gps data extracted from the previous notebooks. Be sure to check the notebook closely as there are some caveats with the package that generates those visualizations."
   ]
  },
  {
   "cell_type": "code",
   "execution_count": null,
   "metadata": {},
   "outputs": [],
   "source": []
  }
 ],
 "metadata": {
  "kernelspec": {
   "display_name": "Python 3",
   "language": "python",
   "name": "python3"
  },
  "language_info": {
   "codemirror_mode": {
    "name": "ipython",
    "version": 3
   },
   "file_extension": ".py",
   "mimetype": "text/x-python",
   "name": "python",
   "nbconvert_exporter": "python",
   "pygments_lexer": "ipython3",
   "version": "3.7.9"
  }
 },
 "nbformat": 4,
 "nbformat_minor": 2
}
